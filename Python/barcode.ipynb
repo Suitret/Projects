{
 "cells": [
  {
   "cell_type": "code",
   "execution_count": 10,
   "metadata": {},
   "outputs": [
    {
     "name": "stdout",
     "output_type": "stream",
     "text": [
      "How many barcodes do you need: 1\n",
      "Give a 12-digit number for your barcode ID: 12345566776456766564\n",
      "Give a name to the file containing your barcode: next\n"
     ]
    }
   ],
   "source": [
    "from barcode import EAN13\n",
    "from barcode.writer import ImageWriter\n",
    "\n",
    "num_of_barcodes = int(input(\"How many barcodes do you need: \"))\n",
    "numbers = range(num_of_barcodes)\n",
    "\n",
    "for i in numbers:\n",
    "    id = input(\"Give a 12-digit number for your barcode ID: \")\n",
    "    my_code = EAN13(id, writer=ImageWriter())\n",
    "    name = input(\"Give a name to the file containing your barcode: \")\n",
    "    my_code.save(name, options={})"
   ]
  },
  {
   "cell_type": "code",
   "execution_count": null,
   "metadata": {},
   "outputs": [],
   "source": []
  }
 ],
 "metadata": {
  "kernelspec": {
   "display_name": "Python 3",
   "language": "python",
   "name": "python3"
  },
  "language_info": {
   "codemirror_mode": {
    "name": "ipython",
    "version": 3
   },
   "file_extension": ".py",
   "mimetype": "text/x-python",
   "name": "python",
   "nbconvert_exporter": "python",
   "pygments_lexer": "ipython3",
   "version": "3.8.10"
  }
 },
 "nbformat": 4,
 "nbformat_minor": 4
}
