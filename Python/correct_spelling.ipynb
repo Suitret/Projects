{
 "cells": [
  {
   "cell_type": "code",
   "execution_count": 10,
   "metadata": {},
   "outputs": [
    {
     "name": "stdout",
     "output_type": "stream",
     "text": [
      "Enter the miss spell word: skool\n",
      "Correction:  stool\n",
      "Candidate words:  {'kool', 'spool', 'stool'}\n"
     ]
    }
   ],
   "source": [
    "from spellchecker import SpellChecker\n",
    "\n",
    "spell = SpellChecker()\n",
    "word = input(\"Enter the miss spell word: \")\n",
    "\n",
    "corrected_word = spell.correction(word)\n",
    "candidate_words = spell.candidates(word)\n",
    "\n",
    "print(\"Correction: \", corrected_word)\n",
    "print(\"Candidate words: \", candidate_words)"
   ]
  },
  {
   "cell_type": "code",
   "execution_count": null,
   "metadata": {},
   "outputs": [],
   "source": []
  }
 ],
 "metadata": {
  "kernelspec": {
   "display_name": "Python 3",
   "language": "python",
   "name": "python3"
  },
  "language_info": {
   "codemirror_mode": {
    "name": "ipython",
    "version": 3
   },
   "file_extension": ".py",
   "mimetype": "text/x-python",
   "name": "python",
   "nbconvert_exporter": "python",
   "pygments_lexer": "ipython3",
   "version": "3.8.10"
  }
 },
 "nbformat": 4,
 "nbformat_minor": 4
}
