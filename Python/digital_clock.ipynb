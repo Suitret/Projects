{
 "cells": [
  {
   "cell_type": "code",
   "execution_count": 5,
   "metadata": {},
   "outputs": [],
   "source": [
    "from tkinter import *\n",
    "from time import strftime\n",
    "\n",
    "root = Tk()\n",
    "root.title(\"Digital Clock\")\n",
    "label = Label(root, font=(\"areal\", 160, \"bold\"), bg=\"black\", fg=\"white\")\n",
    "label.pack(anchor=\"center\", fill=\"both\", expand=1)\n",
    "\n",
    "def Time():\n",
    "    string = strftime(\"%H:%M:%S P\")\n",
    "    label.config(text=string)\n",
    "    label.after(1000, Time)\n",
    "\n",
    "Time()\n",
    "root.mainloop()"
   ]
  },
  {
   "cell_type": "code",
   "execution_count": null,
   "metadata": {},
   "outputs": [],
   "source": []
  },
  {
   "cell_type": "code",
   "execution_count": null,
   "metadata": {},
   "outputs": [],
   "source": []
  }
 ],
 "metadata": {
  "kernelspec": {
   "display_name": "Python 3",
   "language": "python",
   "name": "python3"
  },
  "language_info": {
   "codemirror_mode": {
    "name": "ipython",
    "version": 3
   },
   "file_extension": ".py",
   "mimetype": "text/x-python",
   "name": "python",
   "nbconvert_exporter": "python",
   "pygments_lexer": "ipython3",
   "version": "3.8.10"
  }
 },
 "nbformat": 4,
 "nbformat_minor": 4
}
