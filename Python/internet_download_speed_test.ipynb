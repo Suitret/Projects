{
 "cells": [
  {
   "cell_type": "code",
   "execution_count": 1,
   "metadata": {},
   "outputs": [],
   "source": [
    "import math\n",
    "import tkinter as tk\n",
    "from PIL import Image, ImageTk\n",
    "import pyspeedtest\n",
    "#from tkinter import messagebox\n",
    "\n",
    "#img = PhotoImage(file='cloud_download_icon_144412.ico')\n",
    "\n",
    "root = tk.Tk()\n",
    "root.geometry(\"300x450\")\n",
    "root.resizable(0,0)\n",
    "root.title(\"Internet Download speed\")\n",
    "#root.iconphoto(False, img)\n",
    "\n",
    "# Creating Function\n",
    "st = pyspeedtest.SpeedTest(\"www.google.com\")\n",
    "def SpeedTest():\n",
    "    speed = str(math.floor(st.download()/1000)) + \"Kb/s\"\n",
    "    messagebox.showinfo(\"The speed is \", speed)\n",
    "\n",
    "\n",
    "\n",
    "\n",
    "# Logo\n",
    "logo = Image.open(\"salade.png\")\n",
    "logo = ImageTk.PhotoImage(logo)\n",
    "logo_label = tk.Label(image=logo)\n",
    "logo_label.image = logo\n",
    "logo_label.pack()\n",
    "\n",
    "new_label = tk.Label(root, text = \"Test Download Speed\", font=(\"Areal\",18, \"bold\"), fg=\"green\")\n",
    "new_label.pack(padx=20, pady=20)\n",
    "\n",
    "# Creating Buttons\n",
    "button1 = tk.Button(root, text=\"Check\",command=SpeedTest, font=(\"Areal\",20))\n",
    "button1.pack(padx=20, pady=10)\n",
    "button2 = tk.Button(root, text=\"Exit\", command=root.destroy,font=(\"Areal\", 20))\n",
    "button2.pack(padx=10, pady=10)\n",
    "\n",
    "# Creating Label\n",
    "new_label2 = tk.Label(root, text=\"Thanks!!\", font=(\"Areal\", 25, \"bold\"), bg=\"black\", fg=\"white\")\n",
    "new_label2.pack(padx=10, pady=10, fill=\"both\", expand=True)\n",
    "\n",
    "\n",
    "root.mainloop()"
   ]
  }
 ],
 "metadata": {
  "kernelspec": {
   "display_name": "Python 3",
   "language": "python",
   "name": "python3"
  },
  "language_info": {
   "codemirror_mode": {
    "name": "ipython",
    "version": 3
   },
   "file_extension": ".py",
   "mimetype": "text/x-python",
   "name": "python",
   "nbconvert_exporter": "python",
   "pygments_lexer": "ipython3",
   "version": "3.8.10"
  }
 },
 "nbformat": 4,
 "nbformat_minor": 4
}
