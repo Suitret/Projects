{
 "cells": [
  {
   "cell_type": "code",
   "execution_count": 2,
   "metadata": {},
   "outputs": [
    {
     "name": "stdout",
     "output_type": "stream",
     "text": [
      "Type your link: https://www.linkedin.com/mynetwork/\n",
      "https://tinyurl.com/yyar5fvx\n"
     ]
    }
   ],
   "source": [
    "#pip install pyshorteners\n",
    "import pyshorteners\n",
    "\n",
    "shortener = pyshorteners.Shortener()\n",
    "long_link = input(\"Type your link: \")\n",
    "short_link = shortener.tinyurl.short(long_link)\n",
    "\n",
    "print(short_link)"
   ]
  }
 ],
 "metadata": {
  "kernelspec": {
   "display_name": "Python 3",
   "language": "python",
   "name": "python3"
  },
  "language_info": {
   "codemirror_mode": {
    "name": "ipython",
    "version": 3
   },
   "file_extension": ".py",
   "mimetype": "text/x-python",
   "name": "python",
   "nbconvert_exporter": "python",
   "pygments_lexer": "ipython3",
   "version": "3.8.10"
  }
 },
 "nbformat": 4,
 "nbformat_minor": 4
}
