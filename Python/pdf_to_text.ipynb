{
 "cells": [
  {
   "cell_type": "code",
   "execution_count": 8,
   "metadata": {},
   "outputs": [
    {
     "name": "stdout",
     "output_type": "stream",
     "text": [
      "Plan\n",
      "Introduction\n",
      "I. Qu'est-ce que ChatGPT ?\n",
      "1-1 Définition de ChatGPT\n",
      "1-2 Fonctionnalités de ChatGPT\n",
      "1-3 Usages principaux de ChatGPT \n",
      "II. L'API de GPT\n",
      "2-1 Définition de l'API de GPT\n",
      "2-2 Comment utiliser l'API de GPT\n",
      "2-3 Fonctionnalités de l'API de GPT\n",
      "III. Avantages et limites de l'utilisation de ChatGPT et de l'API de GPT\n",
      "3-1 Avantages \n",
      "3-2 Limites\n",
      "VI. Exemples d'utilisation\n",
      "V . Actualités et remplacement de Google par ChatGPT ? \n",
      "       5-1 ChatGPT remplacera-t-il la recherche Google  ? \n",
      "       5-2  ChatGPT va-t-il remplacer certaines tâches humaines  ?\n",
      "       5-3  Peut-on gagner de l’argent grâce à ChatGPT?\n",
      "       5-4 Quelles sont les nouvelles innovations de GTP-4  ?\n",
      " Conclusion\n"
     ]
    }
   ],
   "source": [
    "import PyPDF2\n",
    "\n",
    "Pdf_file = open(\"Exposé groupe 7 sur Chatgpt et l'API de GPT.pdf\", \"rb\")\n",
    "Pdf_Reader = PyPDF2.PdfReader(Pdf_file)\n",
    "Text = Pdf_Reader.pages[0].extract_text()\n",
    "print(Text)"
   ]
  }
 ],
 "metadata": {
  "kernelspec": {
   "display_name": "Python 3",
   "language": "python",
   "name": "python3"
  },
  "language_info": {
   "codemirror_mode": {
    "name": "ipython",
    "version": 3
   },
   "file_extension": ".py",
   "mimetype": "text/x-python",
   "name": "python",
   "nbconvert_exporter": "python",
   "pygments_lexer": "ipython3",
   "version": "3.8.10"
  }
 },
 "nbformat": 4,
 "nbformat_minor": 4
}
