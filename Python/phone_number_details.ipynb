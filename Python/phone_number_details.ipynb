{
 "cells": [
  {
   "cell_type": "code",
   "execution_count": 10,
   "metadata": {},
   "outputs": [
    {
     "name": "stdout",
     "output_type": "stream",
     "text": [
      "Enter the phone number: +33618119113\n",
      "Country:  France\n",
      "Sim Card Provider:  SFR\n",
      "Time Zone:  ('Europe/Paris',)\n"
     ]
    }
   ],
   "source": [
    "import phonenumbers as ph\n",
    "from phonenumbers import geocoder\n",
    "from phonenumbers import carrier\n",
    "from phonenumbers import timezone\n",
    "\n",
    "number = input(\"Enter the phone number: \")\n",
    "number = ph.parse(number)\n",
    "country = geocoder.description_for_number(number, \"fr\")\n",
    "sim_card_provider = carrier.name_for_number(number, \"fr\")\n",
    "time_zone = timezone.time_zones_for_number(number)\n",
    "\n",
    "print(\"Country: \", country)\n",
    "print(\"Sim Card Provider: \", sim_card_provider)\n",
    "print(\"Time Zone: \", time_zone)"
   ]
  },
  {
   "cell_type": "code",
   "execution_count": null,
   "metadata": {},
   "outputs": [],
   "source": []
  }
 ],
 "metadata": {
  "kernelspec": {
   "display_name": "Python 3",
   "language": "python",
   "name": "python3"
  },
  "language_info": {
   "codemirror_mode": {
    "name": "ipython",
    "version": 3
   },
   "file_extension": ".py",
   "mimetype": "text/x-python",
   "name": "python",
   "nbconvert_exporter": "python",
   "pygments_lexer": "ipython3",
   "version": "3.8.10"
  }
 },
 "nbformat": 4,
 "nbformat_minor": 4
}
