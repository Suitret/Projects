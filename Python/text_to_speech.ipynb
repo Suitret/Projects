{
 "cells": [
  {
   "cell_type": "code",
   "execution_count": 13,
   "metadata": {},
   "outputs": [
    {
     "name": "stdout",
     "output_type": "stream",
     "text": [
      "Enter your text: Bien sûr, voici un texte pour vous :  La vie est une aventure incroyable, remplie de hauts et de bas, de moments de bonheur intense et de moments de tristesse profonde. Parfois, nous avons l'impression que tout se passe bien, que rien ne peut nous arrêter, alors que d'autres fois, nous avons l'impression que le monde entier est contre nous. Mais quel que soit le défi auquel nous sommes confrontés, il est important de garder espoir et de continuer à avancer.  Il y a tellement de choses à découvrir dans la vie - de nouveaux endroits à visiter, de nouvelles personnes à rencontrer, de nouveaux plats à essayer. Et même si parfois cela peut sembler effrayant, c'est souvent dans ces moments que nous grandissons le plus en tant qu'individus.  Rappelez-vous que chaque journée est une nouvelle opportunité de créer quelque chose de nouveau, d'apprendre quelque chose de nouveau, de rencontrer quelqu'un de nouveau. La vie peut être difficile, mais c'est aussi belle et pleine de surprises. Alors, prenez une profonde inspiration et lancez-vous dans l'aventure de la vie !\n"
     ]
    }
   ],
   "source": [
    "import pyttsx3\n",
    "\n",
    "engine = pyttsx3.init()\n",
    "\n",
    "voices = engine.getProperty(\"voices\")\n",
    "engine.setProperty(\"voice\", voices[26].id)\n",
    "\n",
    "def Speak(Audio):\n",
    "    engine.say(Audio)\n",
    "    engine.runAndWait()\n",
    "    \n",
    "text = input(\"Enter your text: \")\n",
    "\n",
    "Speak(text)"
   ]
  }
 ],
 "metadata": {
  "kernelspec": {
   "display_name": "Python 3",
   "language": "python",
   "name": "python3"
  },
  "language_info": {
   "codemirror_mode": {
    "name": "ipython",
    "version": 3
   },
   "file_extension": ".py",
   "mimetype": "text/x-python",
   "name": "python",
   "nbconvert_exporter": "python",
   "pygments_lexer": "ipython3",
   "version": "3.8.10"
  }
 },
 "nbformat": 4,
 "nbformat_minor": 4
}
