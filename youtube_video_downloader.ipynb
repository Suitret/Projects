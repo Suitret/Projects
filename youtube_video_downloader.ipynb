{
 "cells": [
  {
   "cell_type": "code",
   "execution_count": null,
   "metadata": {},
   "outputs": [
    {
     "name": "stdout",
     "output_type": "stream",
     "text": [
      "Video Link: https://youtu.be/l4Ch_OWTKIA\n",
      "Title:  This is how you become a rainmaker\n",
      "Num of Views:  326256\n",
      "Length of Video:  53 Seconds\n",
      "Author:  Alex Hormozi\n"
     ]
    }
   ],
   "source": [
    "from pytube import YouTube\n",
    "\n",
    "link = input(\"Video Link: \")\n",
    "Download_Video_Link = YouTube(link)\n",
    "Title = Download_Video_Link.title\n",
    "Num_of_Views = Download_Video_Link.views\n",
    "Length_of_Video = Download_Video_Link.length\n",
    "Author_of_Video = Download_Video_Link.author\n",
    "\n",
    "\n",
    "print(\"Title: \",Title)\n",
    "print(\"Num of Views: \",Num_of_Views)\n",
    "print(\"Length of Video: \",Length_of_Video, \"Seconds\")\n",
    "print(\"Author: \",Author_of_Video)\n",
    "\n",
    "\n",
    "Download_Video_Link.streams.get_highest_resolution().download()\n",
    "print(\"Download Done\")"
   ]
  },
  {
   "cell_type": "code",
   "execution_count": null,
   "metadata": {},
   "outputs": [],
   "source": []
  }
 ],
 "metadata": {
  "kernelspec": {
   "display_name": "Python 3",
   "language": "python",
   "name": "python3"
  },
  "language_info": {
   "codemirror_mode": {
    "name": "ipython",
    "version": 3
   },
   "file_extension": ".py",
   "mimetype": "text/x-python",
   "name": "python",
   "nbconvert_exporter": "python",
   "pygments_lexer": "ipython3",
   "version": "3.8.10"
  }
 },
 "nbformat": 4,
 "nbformat_minor": 4
}
